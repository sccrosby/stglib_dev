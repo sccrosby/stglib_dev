{
 "cells": [
  {
   "cell_type": "markdown",
   "metadata": {},
   "source": [
    "# Atmospheric pressure correction\n",
    "\n",
    "This notebook uses example data to generate an atmospheric correction file."
   ]
  },
  {
   "cell_type": "code",
   "execution_count": 1,
   "metadata": {},
   "outputs": [],
   "source": [
    "from __future__ import division, print_function\n",
    "import stglib\n",
    "import matplotlib.pyplot as plt\n",
    "import xarray as xr\n",
    "import pandas as pd\n",
    "\n",
    "filename = 'atmpressure.csv'\n",
    "cdfRawFile = '../StglibProcessing/051161_B2-raw.cdf'\n",
    "ncfile1 = 'temp.nc'"
   ]
  },
  {
   "cell_type": "markdown",
   "metadata": {},
   "source": [
    "## Generate atmospheric .nc file"
   ]
  },
  {
   "cell_type": "code",
   "execution_count": 2,
   "metadata": {},
   "outputs": [],
   "source": [
    "def read_met_data(filename):\n",
    "    a = pd.read_csv(filename, header=0, parse_dates=[0],\n",
    "                    infer_datetime_format=True, index_col=0)\n",
    "\n",
    "    return xr.Dataset(a)\n",
    "\n",
    "gndcrmet = read_met_data(filename) # This creates an xarray Dataset\n",
    "gndcrmet = gndcrmet['pres'].to_dataset() # Let's keep only the BP variable\n",
    "gndcrmet['pres'] = gndcrmet['pres']/100 # convert our atmos data (in millibars) to decibars\n",
    "gndcrmet.to_netcdf(ncfile1) # This saves to a .nc file. Not required here as we will just be reading it back again"
   ]
  },
  {
   "cell_type": "markdown",
   "metadata": {},
   "source": [
    "## Generate the atmpres.cdf file \n",
    "This generates the file and embeds the instrument-specific offset as an attr. The trickiest part of this process is determining what to use as an offset. After you run this cell, you will have your very own atmpres.cdf file!"
   ]
  },
  {
   "cell_type": "code",
   "execution_count": 3,
   "metadata": {},
   "outputs": [
    {
     "name": "stderr",
     "output_type": "stream",
     "text": [
      "C:\\Users\\Crosby\\AppData\\Local\\conda\\conda\\envs\\rskprocessing\\lib\\site-packages\\ipykernel_launcher.py:2: FutureWarning: The autoclose argument is no longer used by xarray.open_dataset() and is now ignored; it will be removed in xarray v0.12. If necessary, you can control the maximum number of simultaneous open files with xarray.set_options(file_cache_maxsize=...).\n",
      "  \n",
      "C:\\Users\\Crosby\\AppData\\Local\\conda\\conda\\envs\\rskprocessing\\lib\\site-packages\\ipykernel_launcher.py:5: FutureWarning: The autoclose argument is no longer used by xarray.open_dataset() and is now ignored; it will be removed in xarray v0.12. If necessary, you can control the maximum number of simultaneous open files with xarray.set_options(file_cache_maxsize=...).\n",
      "  \"\"\"\n",
      "C:\\Users\\Crosby\\AppData\\Local\\conda\\conda\\envs\\rskprocessing\\lib\\site-packages\\xarray\\core\\dataarray.py:1748: SerializationWarning: saving variable time with floating point data as an integer dtype without any _FillValue to use for NaNs\n",
      "  return dataset.to_netcdf(*args, **kwargs)\n"
     ]
    }
   ],
   "source": [
    "# Load the raw Aquadopp data\n",
    "RAW = xr.open_dataset(cdfRawFile, autoclose=True)\n",
    "\n",
    "# Load the met data\n",
    "gndcrmet = xr.open_dataset(ncfile1, autoclose=True)\n",
    "\n",
    "met = gndcrmet['pres'] # make a new met variable\n",
    "met = met.rename('atmpres') # rename it to the standard atmpres variable name\n",
    "met = met.reindex(time=RAW['time'], copy=True, method='nearest') # reindex the met data onto the Aquadopp time base\n",
    "met.attrs.update(offset=0) #-10.15) # set the atmospheric offset as an attribute\n",
    "met.to_netcdf('atmpres.cdf') # save to disk"
   ]
  },
  {
   "cell_type": "markdown",
   "metadata": {},
   "source": [
    "## Load clean data\n",
    "Note that you need to run the proper run scripts with your generated atmpres.cdf files... this only uses example files."
   ]
  },
  {
   "cell_type": "code",
   "execution_count": null,
   "metadata": {},
   "outputs": [],
   "source": [
    "def load_clean(filename, basedir):\n",
    "    fildir = basedir\n",
    "\n",
    "    ds = xr.open_dataset(basedir + filename, decode_times=False, autoclose=True)\n",
    "    ds['time'] = ds['time_cf']\n",
    "    ds = ds.drop('time2')\n",
    "    \n",
    "    return xr.decode_cf(ds)\n",
    "\n",
    "VEL = load_clean('10761Aaqd-a.nc', basedir)"
   ]
  },
  {
   "cell_type": "markdown",
   "metadata": {},
   "source": [
    "## View data\n",
    "See how the raw and P_1ac data compare."
   ]
  },
  {
   "cell_type": "code",
   "execution_count": null,
   "metadata": {},
   "outputs": [],
   "source": [
    "plt.figure(figsize=(10,8))\n",
    "RAW['Pressure'].plot()\n",
    "VEL['P_1ac'].plot()\n",
    "plt.show()"
   ]
  },
  {
   "cell_type": "code",
   "execution_count": null,
   "metadata": {},
   "outputs": [],
   "source": []
  }
 ],
 "metadata": {
  "kernelspec": {
   "display_name": "Python 3",
   "language": "python",
   "name": "python3"
  },
  "language_info": {
   "codemirror_mode": {
    "name": "ipython",
    "version": 3
   },
   "file_extension": ".py",
   "mimetype": "text/x-python",
   "name": "python",
   "nbconvert_exporter": "python",
   "pygments_lexer": "ipython3",
   "version": "3.7.2"
  }
 },
 "nbformat": 4,
 "nbformat_minor": 2
}
